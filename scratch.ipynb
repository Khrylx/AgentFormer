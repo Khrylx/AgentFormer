{
 "cells": [
  {
   "cell_type": "code",
   "execution_count": 2,
   "metadata": {},
   "outputs": [
    {
     "name": "stderr",
     "output_type": "stream",
     "text": [
      "/home/rchoudhu/.conda/envs/agentformer/lib/python3.7/site-packages/tqdm/auto.py:22: TqdmWarning: IProgress not found. Please update jupyter and ipywidgets. See https://ipywidgets.readthedocs.io/en/stable/user_install.html\n",
      "  from .autonotebook import tqdm as notebook_tqdm\n"
     ]
    }
   ],
   "source": [
    "import os\n",
    "import numpy as np\n",
    "import glob\n",
    "import sys\n",
    "import subprocess\n",
    "import argparse\n",
    "import torch"
   ]
  },
  {
   "cell_type": "code",
   "execution_count": 17,
   "metadata": {},
   "outputs": [],
   "source": [
    "data_root  = \"./datasets/tepper/Pedestrian_labels\"\n",
    "\n",
    "seq_name = '0'\n",
    "\n",
    "label_path = os.path.join(data_root, '{}_frame.txt'.format(seq_name))\n",
    "raw_data = np.genfromtxt(label_path, delimiter=',')"
   ]
  },
  {
   "cell_type": "code",
   "execution_count": 3,
   "metadata": {},
   "outputs": [],
   "source": [
    "# Don't do any scaling yet.\n",
    "# only pedestrians.\n",
    "gt = raw_data\n",
    "frames = gt[:, 0].astype(np.float32).astype(int)\n",
    "fr_start, fr_end = frames.min(), frames.max()\n",
    "init_frame = fr_start\n",
    "num_fr = fr_end + 1 - fr_start\n",
    "past_frames = 8\n",
    "fut_frames = 12\n",
    "frame_skip = 1\n",
    "min_past_frames = 8\n",
    "min_future_frames = 12 "
   ]
  },
  {
   "cell_type": "code",
   "execution_count": 4,
   "metadata": {},
   "outputs": [],
   "source": [
    "def get_history_data(frame_idx):\n",
    "    data_list = []\n",
    "    for i in range(past_frames):\n",
    "        if frame_idx - i < init_frame:\n",
    "            data = []\n",
    "        data = gt[gt[:, 0] == (frame_idx - i) * frame_skip]\n",
    "        data_list.append(data)\n",
    "    return data_list"
   ]
  },
  {
   "cell_type": "code",
   "execution_count": 5,
   "metadata": {},
   "outputs": [],
   "source": [
    "def get_future_data(frame_idx):\n",
    "    data_list = []\n",
    "    for i in range(1, fut_frames + 1):\n",
    "        data = gt[gt[:, 0] == frame_idx  + i * frame_skip]\n",
    "        data_list.append(data)\n",
    "    return data_list"
   ]
  },
  {
   "cell_type": "code",
   "execution_count": 6,
   "metadata": {},
   "outputs": [],
   "source": [
    "def get_id(data):\n",
    "    id = []\n",
    "    for i in range(data.shape[0]):\n",
    "        id.append(data[i, 1].copy())\n",
    "    return id\n",
    "\n",
    "def get_valid_id(pre_data, fut_data):\n",
    "    cur_id = get_id(pre_data[0])\n",
    "    valid_id = []\n",
    "    for idx in cur_id:\n",
    "        exist_pre = [(False if isinstance(data, list) else (idx in data[:, 1])) for data in pre_data[:min_past_frames]]\n",
    "        exist_fut = [(False if isinstance(data, list) else (idx in data[:, 1])) for data in fut_data[:min_future_frames]]\n",
    "        if np.all(exist_pre) and np.all(exist_fut):\n",
    "            valid_id.append(idx)\n",
    "    return valid_id"
   ]
  },
  {
   "cell_type": "code",
   "execution_count": 20,
   "metadata": {},
   "outputs": [],
   "source": [
    "def get_history_motion(data_list, valid_id):\n",
    "    motion = []\n",
    "    mask = []\n",
    "    for identity in valid_id:\n",
    "        mask_i = torch.zeros(past_frames)\n",
    "        past_coords = torch.zeros(past_frames, 3)\n",
    "        for frame_idx in range(past_frames):\n",
    "            past_data = data_list[frame_idx]\n",
    "            if len(past_data) > 0 and identity in past_data[:, 1]:\n",
    "                # Keep all indices (x, y, z), don't apply traj scale.\n",
    "                found_data = past_data[past_data[:, 1] == identity].squeeze()\n",
    "                past_coords[past_frames-1-frame_idx, :] = torch.from_numpy(found_data[[2,3,4]]).float()\n",
    "                mask_i[past_frames - 1 - frame_idx] = 1.0\n",
    "            elif frame_idx > 0:\n",
    "                past_coords[past_frames-1 - frame_idx, :] = past_coords[past_frames - frame_idx, :]\n",
    "            else:\n",
    "                raise ValueError('current id missing in the first frame!')\n",
    "        motion.append(past_coords)\n",
    "        mask.append(mask_i)\n",
    "    \n",
    "    return motion, mask\n",
    "\n",
    "def get_future_motion(data_list, valid_id):\n",
    "    motion = []\n",
    "    mask = []\n",
    "    for identity in valid_id:\n",
    "        mask_i = torch.zeros(fut_frames)\n",
    "        mask_i = torch.zeros(fut_frames)\n",
    "        pos_3d = torch.zeros([fut_frames, 3])\n",
    "        for j in range(fut_frames):\n",
    "            fut_data = data_list[j]              # cur_data\n",
    "            if len(fut_data) > 0 and identity in fut_data[:, 1]:\n",
    "                found_data = fut_data[fut_data[:, 1] == identity].squeeze()[[2,3,4]]\n",
    "                pos_3d[j, :] = torch.from_numpy(found_data).float()\n",
    "                mask_i[j] = 1.0\n",
    "            elif j > 0:\n",
    "                pos_3d[j, :] = pos_3d[j - 1, :]    # if none, copy from previous\n",
    "            else:\n",
    "                raise ValueError('current id missing in the first frame!')\n",
    "        motion.append(pos_3d)\n",
    "        mask.append(mask_i)\n",
    "    \n",
    "    return motion, mask"
   ]
  },
  {
   "cell_type": "code",
   "execution_count": 21,
   "metadata": {},
   "outputs": [],
   "source": [
    "def get_data(frame_idx):\n",
    "    assert frame_idx - init_frame >= 0 and frame_idx - init_frame < num_fr\n",
    "\n",
    "    pre_data = get_history_data(frame_idx)\n",
    "    fut_data = get_future_data(frame_idx)\n",
    "    valid_id = get_valid_id(pre_data, fut_data)\n",
    "\n",
    "    if len(pre_data[0]) == 0 or len(fut_data[0]) == 0 or len(valid_id) == 0:\n",
    "        return None\n",
    "    pred_mask = None\n",
    "    heading = None\n",
    "    \n",
    "    pre_motion_3D, pre_motion_mask = get_history_motion(pre_data, valid_id)\n",
    "    fut_motion_3D, fut_motion_mask = get_future_motion(fut_data, valid_id)\n",
    "\n",
    "    data = {\n",
    "        'pre_motion_3D': pre_motion_3D,\n",
    "        'fut_motion_3D': fut_motion_3D,\n",
    "        'fut_motion_mask': fut_motion_mask,\n",
    "        'pre_motion_mask': pre_motion_mask,\n",
    "        'pre_data': pre_data,\n",
    "        'fut_data': fut_data,\n",
    "        'heading': heading,\n",
    "        'valid_id': valid_id,\n",
    "        'pred_mask': pred_mask,\n",
    "        'scene_map': None,\n",
    "        'seq': seq_name,\n",
    "        'frame': frame_idx\n",
    "    }\n",
    "\n",
    "    return data\n"
   ]
  },
  {
   "cell_type": "code",
   "execution_count": 1,
   "metadata": {},
   "outputs": [],
   "source": [
    "# Play with H36M\n",
    "import cdflib\n",
    "s1_root = \"/home/rchoudhu/research/pose_forecasting/datasets/h3.6m/S1/MyPoseFeatures/D3_Positions\"\n",
    "path = os.path.join(s1_root, \"Posing 1.cdf\")\n",
    "hf = cdflib.CDF(path)"
   ]
  },
  {
   "cell_type": "code",
   "execution_count": 13,
   "metadata": {},
   "outputs": [],
   "source": [
    "h36m_data = np.load(\"./datasets/h3.6m/data_3d_h36m.npz\", allow_pickle=True)"
   ]
  },
  {
   "cell_type": "code",
   "execution_count": 17,
   "metadata": {},
   "outputs": [],
   "source": [
    "class DatasetH36M():\n",
    "    # we need to make this a file.\n",
    "    def __init__(self, mode, t_his=25, t_pred=100, actions='all', use_vel=False):\n",
    "        self.use_vel = use_vel\n",
    "        super().__init__(mode, t_his, t_pred, actions)\n",
    "        if use_vel:\n",
    "            self.traj_dim += 3\n",
    "\n",
    "    def prepare_data(self):\n",
    "        self.data_file = os.path.join('datasets', 'h3.6m', 'data_3d_h36m.npz')\n",
    "        self.subjects_split = {'train': [1, 5, 6, 7, 8],\n",
    "                               'test': [9, 11]}\n",
    "        self.subjects = ['S%d' % x for x in self.subjects_split[self.mode]]\n",
    "        #self.skeleton = Skeleton(parents=[-1, 0, 1, 2, 3, 4, 0, 6, 7, 8, 9, 0, 11, 12, 13, 14, 12,\n",
    "        #                                  16, 17, 18, 19, 20, 19, 22, 12, 24, 25, 26, 27, 28, 27, 30],\n",
    "        #                         joints_left=[6, 7, 8, 9, 10, 16, 17, 18, 19, 20, 21, 22, 23],\n",
    "        #                         joints_right=[1, 2, 3, 4, 5, 24, 25, 26, 27, 28, 29, 30, 31])\n",
    "        self.removed_joints = {4, 5, 9, 10, 11, 16, 20, 21, 22, 23, 24, 28, 29, 30, 31}\n",
    "        self.kept_joints = np.array([x for x in range(32) if x not in self.removed_joints])\n",
    "        #self.skeleton.remove_joints(self.removed_joints)\n",
    "        #self.skeleton._parents[11] = 8\n",
    "        #self.skeleton._parents[14] = 8\n",
    "        self.process_data()\n",
    "\n",
    "    def process_data(self):\n",
    "        data_o = np.load(self.data_file, allow_pickle=True)['positions_3d'].item()\n",
    "        data_f = dict(filter(lambda x: x[0] in self.subjects, data_o.items()))\n",
    "        if self.actions != 'all':\n",
    "            for key in list(data_f.keys()):\n",
    "                data_f[key] = dict(filter(lambda x: all([a in x[0] for a in self.actions]), data_f[key].items()))\n",
    "                if len(data_f[key]) == 0:\n",
    "                    data_f.pop(key)\n",
    "        for data_s in data_f.values():\n",
    "            for action in data_s.keys():\n",
    "                seq = data_s[action][:, self.kept_joints, :]\n",
    "                if self.use_vel:\n",
    "                    v = (np.diff(seq[:, :1], axis=0) * 50).clip(-5.0, 5.0)\n",
    "                    v = np.append(v, v[[-1]], axis=0)\n",
    "                seq[:, 1:] -= seq[:, :1]\n",
    "                if self.use_vel:\n",
    "                    seq = np.concatenate((seq, v), axis=1)\n",
    "                data_s[action] = seq\n",
    "        self.data = data_f"
   ]
  },
  {
   "cell_type": "code",
   "execution_count": 18,
   "metadata": {},
   "outputs": [
    {
     "ename": "TypeError",
     "evalue": "__init__() missing 1 required positional argument: 'mode'",
     "output_type": "error",
     "traceback": [
      "\u001b[0;31m---------------------------------------------------------------------------\u001b[0m",
      "\u001b[0;31mTypeError\u001b[0m                                 Traceback (most recent call last)",
      "\u001b[0;32m/tmp/ipykernel_2045687/324363500.py\u001b[0m in \u001b[0;36m<module>\u001b[0;34m\u001b[0m\n\u001b[0;32m----> 1\u001b[0;31m \u001b[0mds\u001b[0m \u001b[0;34m=\u001b[0m \u001b[0mDatasetH36M\u001b[0m\u001b[0;34m(\u001b[0m\u001b[0;34m)\u001b[0m\u001b[0;34m\u001b[0m\u001b[0;34m\u001b[0m\u001b[0m\n\u001b[0m",
      "\u001b[0;31mTypeError\u001b[0m: __init__() missing 1 required positional argument: 'mode'"
     ]
    }
   ],
   "source": [
    "ds = DatasetH36M()"
   ]
  },
  {
   "cell_type": "code",
   "execution_count": null,
   "metadata": {},
   "outputs": [],
   "source": []
  }
 ],
 "metadata": {
  "interpreter": {
   "hash": "0751bac17592ed945c13c689aa206d48b6947211fbf78cf0843fc7df780069d5"
  },
  "kernelspec": {
   "display_name": "Python 3.7.12 64-bit ('agentformer': conda)",
   "language": "python",
   "name": "python3"
  },
  "language_info": {
   "codemirror_mode": {
    "name": "ipython",
    "version": 3
   },
   "file_extension": ".py",
   "mimetype": "text/x-python",
   "name": "python",
   "nbconvert_exporter": "python",
   "pygments_lexer": "ipython3",
   "version": "3.7.12"
  },
  "orig_nbformat": 4
 },
 "nbformat": 4,
 "nbformat_minor": 2
}
